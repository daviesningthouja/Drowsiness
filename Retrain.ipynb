{
 "cells": [
  {
   "cell_type": "code",
   "execution_count": null,
   "id": "831319ed-7a61-469f-b028-3440a1a73653",
   "metadata": {},
   "outputs": [
    {
     "name": "stdout",
     "output_type": "stream",
     "text": [
      "Found 119493 images belonging to 2 classes.\n",
      "Found 29873 images belonging to 2 classes.\n",
      "Epoch 1/10\n",
      "14936/14936 [==============================] - ETA: 0s - loss: 0.1585 - accuracy: 0.9402\n",
      "Epoch 1: val_loss improved from inf to 0.15577, saving model to D:\\Davies Ningthoujam\\My project\\Ml Project\\Driver drowsiness Detection\\models\n"
     ]
    },
    {
     "name": "stderr",
     "output_type": "stream",
     "text": [
      "WARNING:absl:Found untraced functions such as _jit_compiled_convolution_op, _jit_compiled_convolution_op, _jit_compiled_convolution_op, _jit_compiled_convolution_op, _jit_compiled_convolution_op while saving (showing 5 of 94). These functions will not be directly callable after loading.\n"
     ]
    },
    {
     "name": "stdout",
     "output_type": "stream",
     "text": [
      "INFO:tensorflow:Assets written to: D:\\Davies Ningthoujam\\My project\\Ml Project\\Driver drowsiness Detection\\models\\assets\n"
     ]
    },
    {
     "name": "stderr",
     "output_type": "stream",
     "text": [
      "INFO:tensorflow:Assets written to: D:\\Davies Ningthoujam\\My project\\Ml Project\\Driver drowsiness Detection\\models\\assets\n"
     ]
    },
    {
     "name": "stdout",
     "output_type": "stream",
     "text": [
      "14936/14936 [==============================] - 6745s 449ms/step - loss: 0.1585 - accuracy: 0.9402 - val_loss: 0.1558 - val_accuracy: 0.9406 - lr: 0.0010\n",
      "Epoch 2/10\n",
      "14936/14936 [==============================] - ETA: 0s - loss: 0.1555 - accuracy: 0.9404\n",
      "Epoch 2: val_loss improved from 0.15577 to 0.15205, saving model to D:\\Davies Ningthoujam\\My project\\Ml Project\\Driver drowsiness Detection\\models\n"
     ]
    },
    {
     "name": "stderr",
     "output_type": "stream",
     "text": [
      "WARNING:absl:Found untraced functions such as _jit_compiled_convolution_op, _jit_compiled_convolution_op, _jit_compiled_convolution_op, _jit_compiled_convolution_op, _jit_compiled_convolution_op while saving (showing 5 of 94). These functions will not be directly callable after loading.\n"
     ]
    },
    {
     "name": "stdout",
     "output_type": "stream",
     "text": [
      "INFO:tensorflow:Assets written to: D:\\Davies Ningthoujam\\My project\\Ml Project\\Driver drowsiness Detection\\models\\assets\n"
     ]
    },
    {
     "name": "stderr",
     "output_type": "stream",
     "text": [
      "INFO:tensorflow:Assets written to: D:\\Davies Ningthoujam\\My project\\Ml Project\\Driver drowsiness Detection\\models\\assets\n"
     ]
    },
    {
     "name": "stdout",
     "output_type": "stream",
     "text": [
      "14936/14936 [==============================] - 5789s 388ms/step - loss: 0.1555 - accuracy: 0.9404 - val_loss: 0.1520 - val_accuracy: 0.9384 - lr: 0.0010\n",
      "Epoch 3/10\n",
      "14936/14936 [==============================] - ETA: 0s - loss: 0.1525 - accuracy: 0.9414\n",
      "Epoch 3: val_loss improved from 0.15205 to 0.14683, saving model to D:\\Davies Ningthoujam\\My project\\Ml Project\\Driver drowsiness Detection\\models\n"
     ]
    },
    {
     "name": "stderr",
     "output_type": "stream",
     "text": [
      "WARNING:absl:Found untraced functions such as _jit_compiled_convolution_op, _jit_compiled_convolution_op, _jit_compiled_convolution_op, _jit_compiled_convolution_op, _jit_compiled_convolution_op while saving (showing 5 of 94). These functions will not be directly callable after loading.\n"
     ]
    },
    {
     "name": "stdout",
     "output_type": "stream",
     "text": [
      "INFO:tensorflow:Assets written to: D:\\Davies Ningthoujam\\My project\\Ml Project\\Driver drowsiness Detection\\models\\assets\n"
     ]
    },
    {
     "name": "stderr",
     "output_type": "stream",
     "text": [
      "INFO:tensorflow:Assets written to: D:\\Davies Ningthoujam\\My project\\Ml Project\\Driver drowsiness Detection\\models\\assets\n"
     ]
    },
    {
     "name": "stdout",
     "output_type": "stream",
     "text": [
      "14936/14936 [==============================] - 5469s 366ms/step - loss: 0.1525 - accuracy: 0.9414 - val_loss: 0.1468 - val_accuracy: 0.9419 - lr: 0.0010\n",
      "Epoch 4/10\n",
      "14936/14936 [==============================] - ETA: 0s - loss: 0.1530 - accuracy: 0.9417\n",
      "Epoch 4: val_loss did not improve from 0.14683\n",
      "14936/14936 [==============================] - 5734s 384ms/step - loss: 0.1530 - accuracy: 0.9417 - val_loss: 0.1503 - val_accuracy: 0.9430 - lr: 0.0010\n",
      "Epoch 5/10\n",
      "14936/14936 [==============================] - ETA: 0s - loss: 0.1491 - accuracy: 0.9437\n",
      "Epoch 5: val_loss did not improve from 0.14683\n",
      "14936/14936 [==============================] - 5797s 388ms/step - loss: 0.1491 - accuracy: 0.9437 - val_loss: 0.1523 - val_accuracy: 0.9406 - lr: 0.0010\n",
      "Epoch 6/10\n",
      "14936/14936 [==============================] - ETA: 0s - loss: 0.1500 - accuracy: 0.9429\n",
      "Epoch 6: val_loss did not improve from 0.14683\n",
      "\n",
      "Epoch 6: ReduceLROnPlateau reducing learning rate to 0.00010000000474974513.\n",
      "14936/14936 [==============================] - 4584s 307ms/step - loss: 0.1500 - accuracy: 0.9429 - val_loss: 0.1517 - val_accuracy: 0.9411 - lr: 0.0010\n",
      "Epoch 7/10\n",
      "14936/14936 [==============================] - ETA: 0s - loss: 0.1374 - accuracy: 0.9475\n",
      "Epoch 7: val_loss improved from 0.14683 to 0.13906, saving model to D:\\Davies Ningthoujam\\My project\\Ml Project\\Driver drowsiness Detection\\models\n"
     ]
    },
    {
     "name": "stderr",
     "output_type": "stream",
     "text": [
      "WARNING:absl:Found untraced functions such as _jit_compiled_convolution_op, _jit_compiled_convolution_op, _jit_compiled_convolution_op, _jit_compiled_convolution_op, _jit_compiled_convolution_op while saving (showing 5 of 94). These functions will not be directly callable after loading.\n"
     ]
    },
    {
     "name": "stdout",
     "output_type": "stream",
     "text": [
      "INFO:tensorflow:Assets written to: D:\\Davies Ningthoujam\\My project\\Ml Project\\Driver drowsiness Detection\\models\\assets\n"
     ]
    },
    {
     "name": "stderr",
     "output_type": "stream",
     "text": [
      "INFO:tensorflow:Assets written to: D:\\Davies Ningthoujam\\My project\\Ml Project\\Driver drowsiness Detection\\models\\assets\n"
     ]
    },
    {
     "name": "stdout",
     "output_type": "stream",
     "text": [
      "14936/14936 [==============================] - 4737s 317ms/step - loss: 0.1374 - accuracy: 0.9475 - val_loss: 0.1391 - val_accuracy: 0.9464 - lr: 1.0000e-04\n",
      "Epoch 8/10\n",
      "14936/14936 [==============================] - ETA: 0s - loss: 0.1330 - accuracy: 0.9488\n",
      "Epoch 8: val_loss did not improve from 0.13906\n",
      "14936/14936 [==============================] - 5190s 347ms/step - loss: 0.1330 - accuracy: 0.9488 - val_loss: 0.1442 - val_accuracy: 0.9438 - lr: 1.0000e-04\n",
      "Epoch 9/10\n",
      "14936/14936 [==============================] - ETA: 0s - loss: 0.1325 - accuracy: 0.9498\n",
      "Epoch 9: val_loss did not improve from 0.13906\n",
      "14936/14936 [==============================] - 5481s 367ms/step - loss: 0.1325 - accuracy: 0.9498 - val_loss: 0.1400 - val_accuracy: 0.9457 - lr: 1.0000e-04\n",
      "Epoch 10/10\n",
      "10602/14936 [====================>.........] - ETA: 23:26 - loss: 0.1329 - accuracy: 0.9491"
     ]
    }
   ],
   "source": [
    "import tensorflow as tf\n",
    "from keras.callbacks import ModelCheckpoint, EarlyStopping, ReduceLROnPlateau\n",
    "\n",
    "\n",
    "# Path to the saved model folder\n",
    "model_path = \"D:\\Davies Ningthoujam\\My project\\Ml Project\\Driver drowsiness Detection\\models\"  # Replace with the actual folder path\n",
    "\n",
    "# Load the saved model from the checkpoint\n",
    "model = tf.keras.models.load_model(model_path)\n",
    "\n",
    "# Compile the model (required before training)\n",
    "model.compile(optimizer='Adam', loss='categorical_crossentropy', metrics=['accuracy'])\n",
    "\n",
    "# Set up data generators or preprocess your data\n",
    "# Example with ImageDataGenerator (if you're using image data)\n",
    "from tensorflow.keras.preprocessing.image import ImageDataGenerator\n",
    "\n",
    "batchsize = 8  # Adjust as needed\n",
    "\n",
    "train_datagen = ImageDataGenerator(rescale = 1./255, rotation_range = 0.2,shear_range = 0.2,\n",
    "    zoom_range = 0.2,width_shift_range = 0.2,\n",
    "    height_shift_range = 0.2, validation_split = 0.2)  \n",
    "\n",
    "validation_datagen = ImageDataGenerator(rescale=1.0/255)\n",
    "\n",
    "train_data= train_datagen.flow_from_directory(r'D:\\Davies Ningthoujam\\My project\\Ml Project\\Driver drowsiness Detection\\Data\\Train',\n",
    "                                target_size=(80,80),batch_size=batchsize,class_mode='categorical',subset='training' )\n",
    "\n",
    "validation_data= train_datagen.flow_from_directory(r'D:\\Davies Ningthoujam\\My project\\Ml Project\\Driver drowsiness Detection\\Data\\Train',\n",
    "                                target_size=(80,80),batch_size=batchsize,class_mode='categorical', subset='validation')\n",
    "# Set up callbacks\n",
    "checkpoint = ModelCheckpoint(r'D:\\Davies Ningthoujam\\My project\\Ml Project\\Driver drowsiness Detection\\models',\n",
    "                            monitor='val_loss',save_best_only=True,verbose=3)\n",
    "\n",
    "earlystop = EarlyStopping(monitor = 'val_loss', patience=7, verbose= 3, restore_best_weights=True)\n",
    "\n",
    "learning_rate = ReduceLROnPlateau(monitor= 'val_loss', patience=3, verbose= 3, )\n",
    "\n",
    "callbacks=[checkpoint,earlystop,learning_rate]\n",
    "\n",
    "# Resume training\n",
    "history = model.fit(\n",
    "    train_data,\n",
    "    steps_per_epoch=train_data.samples // batchsize,\n",
    "    validation_data=validation_data,\n",
    "    validation_steps=validation_data.samples // batchsize,\n",
    "    epochs=10,  \n",
    "    callbacks=callbacks\n",
    ")\n"
   ]
  },
  {
   "cell_type": "code",
   "execution_count": null,
   "id": "c36919bc-9f03-4aaa-9808-7658944e2e74",
   "metadata": {},
   "outputs": [],
   "source": []
  }
 ],
 "metadata": {
  "kernelspec": {
   "display_name": "Python (Drowsiness Detection)",
   "language": "python",
   "name": "drowsiness_detection_env"
  },
  "language_info": {
   "codemirror_mode": {
    "name": "ipython",
    "version": 3
   },
   "file_extension": ".py",
   "mimetype": "text/x-python",
   "name": "python",
   "nbconvert_exporter": "python",
   "pygments_lexer": "ipython3",
   "version": "3.10.15"
  }
 },
 "nbformat": 4,
 "nbformat_minor": 5
}
