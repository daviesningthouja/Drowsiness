{
 "cells": [
  {
   "cell_type": "code",
   "execution_count": 3,
   "id": "ef314069-0e11-49d1-86b6-9a1495664169",
   "metadata": {},
   "outputs": [],
   "source": [
    "import os\n",
    "import shutil\n",
    "import glob\n",
    "from tqdm import tqdm"
   ]
  },
  {
   "cell_type": "code",
   "execution_count": 6,
   "id": "9919ce76-0b99-4600-8718-e0a8fee1a17f",
   "metadata": {},
   "outputs": [
    {
     "name": "stderr",
     "output_type": "stream",
     "text": [
      "0it [00:00, ?it/s]\n",
      "100%|█████████████████████████████████████████████████████████████████████████████| 3242/3242 [00:29<00:00, 108.73it/s]\n",
      "100%|█████████████████████████████████████████████████████████████████████████████| 1114/1114 [00:08<00:00, 124.85it/s]\n",
      "100%|███████████████████████████████████████████████████████████████████████████████| 679/679 [00:05<00:00, 127.43it/s]\n",
      "100%|█████████████████████████████████████████████████████████████████████████████| 1069/1069 [00:08<00:00, 126.20it/s]\n",
      "100%|███████████████████████████████████████████████████████████████████████████████| 736/736 [00:05<00:00, 130.56it/s]\n",
      "100%|█████████████████████████████████████████████████████████████████████████████| 1012/1012 [00:08<00:00, 122.38it/s]\n",
      "100%|███████████████████████████████████████████████████████████████████████████████| 624/624 [00:04<00:00, 127.83it/s]\n",
      "100%|███████████████████████████████████████████████████████████████████████████████| 832/832 [00:06<00:00, 119.89it/s]\n",
      "100%|███████████████████████████████████████████████████████████████████████████████| 387/387 [00:03<00:00, 123.84it/s]\n",
      "100%|███████████████████████████████████████████████████████████████████████████████| 399/399 [00:03<00:00, 120.33it/s]\n",
      "100%|██████████████████████████████████████████████████████████████████████████████| 1648/1648 [00:16<00:00, 99.01it/s]\n",
      "100%|█████████████████████████████████████████████████████████████████████████████| 8728/8728 [01:17<00:00, 112.96it/s]\n",
      "100%|█████████████████████████████████████████████████████████████████████████████| 3605/3605 [00:31<00:00, 114.62it/s]\n",
      "100%|█████████████████████████████████████████████████████████████████████████████| 8884/8884 [01:14<00:00, 119.69it/s]\n",
      "100%|█████████████████████████████████████████████████████████████████████████████| 1132/1132 [00:09<00:00, 119.16it/s]\n",
      "100%|█████████████████████████████████████████████████████████████████████████████| 1889/1889 [00:18<00:00, 100.04it/s]\n",
      "100%|█████████████████████████████████████████████████████████████████████████████| 1648/1648 [00:14<00:00, 116.50it/s]\n",
      "100%|█████████████████████████████████████████████████████████████████████████████| 4410/4410 [00:38<00:00, 114.49it/s]\n",
      "100%|█████████████████████████████████████████████████████████████████████████████| 6175/6175 [00:53<00:00, 115.79it/s]\n",
      "100%|███████████████████████████████████████████████████████████████████████████████| 704/704 [00:06<00:00, 117.19it/s]\n",
      "100%|███████████████████████████████████████████████████████████████████████████████| 987/987 [00:08<00:00, 118.62it/s]\n",
      "100%|███████████████████████████████████████████████████████████████████████████████| 382/382 [00:03<00:00, 115.64it/s]\n",
      "100%|███████████████████████████████████████████████████████████████████████████████| 522/522 [00:04<00:00, 116.99it/s]\n",
      "100%|███████████████████████████████████████████████████████████████████████████████| 752/752 [00:07<00:00, 102.73it/s]\n",
      "100%|█████████████████████████████████████████████████████████████████████████████| 1502/1502 [00:13<00:00, 109.22it/s]\n",
      "100%|█████████████████████████████████████████████████████████████████████████████| 1246/1246 [00:11<00:00, 105.21it/s]\n",
      "100%|███████████████████████████████████████████████████████████████████████████████| 665/665 [00:05<00:00, 112.70it/s]\n",
      "100%|███████████████████████████████████████████████████████████████████████████████| 736/736 [00:06<00:00, 110.63it/s]\n",
      "100%|█████████████████████████████████████████████████████████████████████████████| 1393/1393 [00:12<00:00, 109.61it/s]\n",
      "100%|█████████████████████████████████████████████████████████████████████████████| 1384/1384 [00:12<00:00, 111.76it/s]\n",
      "100%|█████████████████████████████████████████████████████████████████████████████| 1738/1738 [00:16<00:00, 106.77it/s]\n",
      "100%|█████████████████████████████████████████████████████████████████████████████| 6162/6162 [00:58<00:00, 104.86it/s]\n",
      "100%|████████████████████████████████████████████████████████████████████████████████| 681/681 [00:07<00:00, 91.11it/s]\n",
      "100%|███████████████████████████████████████████████████████████████████████████████| 739/739 [00:06<00:00, 118.76it/s]\n",
      "100%|███████████████████████████████████████████████████████████████████████████████| 642/642 [00:05<00:00, 110.24it/s]\n",
      "100%|█████████████████████████████████████████████████████████████████████████████| 6193/6193 [00:53<00:00, 114.91it/s]\n",
      "100%|███████████████████████████████████████████████████████████████████████████| 10257/10257 [01:38<00:00, 104.46it/s]\n"
     ]
    }
   ],
   "source": [
    "Raw_DIR= r'D:\\Davies Ningthoujam\\My project\\Ml Project\\Driver drowsiness Detection\\mrlEyes_2018_01'\n",
    "for dirpath,dirname,filenames in os.walk(Raw_DIR):\n",
    "    for i in tqdm([f for f in filenames if f.endswith('.png')]):\n",
    "        if i.split('_')[4]=='0':\n",
    "            shutil.copy(src=dirpath+'/'+i, dst=r'D:\\Davies Ningthoujam\\My project\\Ml Project\\Driver drowsiness Detection\\Data\\Close eyes')\n",
    "        \n",
    "        elif i.split('_')[4]=='1':\n",
    "            shutil.copy(src=dirpath+'/'+i, dst=r'D:\\Davies Ningthoujam\\My project\\Ml Project\\Driver drowsiness Detection\\Data\\Open eyes')\n",
    "\n"
   ]
  },
  {
   "cell_type": "code",
   "execution_count": 16,
   "id": "6330094d-4d99-4193-8dfa-5aa73f8609c2",
   "metadata": {},
   "outputs": [
    {
     "ename": "IndentationError",
     "evalue": "unexpected indent (2727418232.py, line 16)",
     "output_type": "error",
     "traceback": [
      "\u001b[1;36m  Cell \u001b[1;32mIn[16], line 16\u001b[1;36m\u001b[0m\n\u001b[1;33m    print(f\"Total files in {source_dir}: {len(files)}\")  # Debug print\u001b[0m\n\u001b[1;37m    ^\u001b[0m\n\u001b[1;31mIndentationError\u001b[0m\u001b[1;31m:\u001b[0m unexpected indent\n"
     ]
    }
   ],
   "source": [
    "\n",
    "import random \n",
    "# Define source and destination directories\n",
    "open_eyes_dir = r'D:\\Davies Ningthoujam\\My project\\Ml Project\\Driver drowsiness Detection\\Data\\Open eyes'\n",
    "close_eyes_dir = r'D:\\Davies Ningthoujam\\My project\\Ml Project\\Driver drowsiness Detection\\Data\\Close eyes'\n",
    "\n",
    "train_open_eyes_dir = r'D:\\Davies Ningthoujam\\My project\\Ml Project\\Driver drowsiness Detection\\Data\\Train\\Open eyes'\n",
    "train_close_eyes_dir = r'D:\\Davies Ningthoujam\\My project\\Ml Project\\Driver drowsiness Detection\\Data\\Train\\Close eyes'\n",
    "\n",
    "# Create the destination directories if they don't exist\n",
    "os.makedirs(train_open_eyes_dir, exist_ok=True)\n",
    "os.makedirs(train_close_eyes_dir, exist_ok=True)\n",
    "\n",
    "def move_data(source_dir, train_dir, split_ratio=0.9):\n",
    "    # List all files in the source directory\n",
    "    files = [f for f in os.listdir(source_dir) if f.endswith('.png')]\n",
    "        print(f\"Total files in {source_dir}: {len(files)}\")  # Debug print\n",
    "    # Shuffle files to ensure random selection\n",
    "    random.shuffle(files)\n",
    "    \n",
    "    # Calculate the number of files for the training set\n",
    "    train_count = int(len(files) * split_ratio)\n",
    "            print(f\"Moving {train_count} files to {train_dir}\")  # Debug print\n",
    "    \n",
    "    # Move files to the training directory\n",
    "    for f in tqdm(files[:train_count], desc=f\"Moving files from {source_dir} to {train_dir}\"):\n",
    "        src_path = os.path.join(source_dir, f)\n",
    "        dst_path = os.path.join(train_dir, f)\n",
    "        shutil.move(src_path, dst_path)\n",
    "\n",
    "# Move 90% of the data to respective train directories\n",
    "move_data(open_eyes_dir, train_open_eyes_dir)\n",
    "move_data(close_eyes_dir, train_close_eyes_dir)\n",
    "\n"
   ]
  },
  {
   "cell_type": "code",
   "execution_count": null,
   "id": "9df7a7e5-4c56-49eb-bad4-c15b029a4c83",
   "metadata": {},
   "outputs": [],
   "source": []
  }
 ],
 "metadata": {
  "kernelspec": {
   "display_name": "Python (Drowsiness Detection)",
   "language": "python",
   "name": "drowsiness_detection_env"
  },
  "language_info": {
   "codemirror_mode": {
    "name": "ipython",
    "version": 3
   },
   "file_extension": ".py",
   "mimetype": "text/x-python",
   "name": "python",
   "nbconvert_exporter": "python",
   "pygments_lexer": "ipython3",
   "version": "3.10.15"
  }
 },
 "nbformat": 4,
 "nbformat_minor": 5
}
