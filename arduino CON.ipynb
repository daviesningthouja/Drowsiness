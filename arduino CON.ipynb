{
 "cells": [
  {
   "cell_type": "code",
   "execution_count": 1,
   "id": "41873d7e-a7a5-4aa4-8d04-ac566c600433",
   "metadata": {},
   "outputs": [
    {
     "name": "stdout",
     "output_type": "stream",
     "text": [
      "pygame 2.6.1 (SDL 2.28.4, Python 3.10.15)\n",
      "Hello from the pygame community. https://www.pygame.org/contribute.html\n"
     ]
    }
   ],
   "source": [
    "import cv2\n",
    "import numpy as np\n",
    "from pygame import mixer\n",
    "from tensorflow.keras.models import load_model\n",
    "from pyfirmata import Arduino, util\n",
    "import time\n",
    "import serial "
   ]
  },
  {
   "cell_type": "code",
   "execution_count": 2,
   "id": "9913e625-c79d-4e9d-b80a-4b524d03ec16",
   "metadata": {},
   "outputs": [],
   "source": [
    "\n",
    "# Initialize pygame mixer\n",
    "mixer.init()\n",
    "sound = mixer.Sound(r'D:\\Davies Ningthoujam\\My project\\Ml Project\\Driver drowsiness Detection\\alarm.wav')\n",
    "\n",
    "# Load the cascades and model\n",
    "face_cascade = cv2.CascadeClassifier(cv2.data.haarcascades + 'haarcascade_frontalface_default.xml')\n",
    "eye_cascade = cv2.CascadeClassifier(cv2.data.haarcascades + 'haarcascade_eye.xml')\n",
    "model = load_model(r'D:\\Davies Ningthoujam\\My project\\Ml Project\\Driver drowsiness Detection\\models')\n"
   ]
  },
  {
   "cell_type": "code",
   "execution_count": 3,
   "id": "c47c2fe4-ab22-4af4-8e5e-47a645fc6f58",
   "metadata": {},
   "outputs": [],
   "source": [
    "# Connect to Arduino (for local PWM control)\n",
    "board = Arduino('COM3')  # Replace 'COM3' with your Arduino's port if necessary\n",
    "#motor_pwm_pin = board.get_pin('d:3:p')  # Define a PWM pin for the motor (D3 in this example)\n"
   ]
  },
  {
   "cell_type": "code",
   "execution_count": 4,
   "id": "30e7b909-fa4b-4a24-95da-ab46f14d1de4",
   "metadata": {},
   "outputs": [],
   "source": [
    "# Connect to ESP8266 via Serial\n",
    "#esp8266_port = 'COM3'  # Replace with your ESP8266's port\n",
    "#baud_rate = 9600\n",
    "#ser = serial.Serial(esp8266_port, baud_rate)\n",
    "#time.sleep(2)  # Wait for the ESP8266 to initialize\n",
    "\n",
    "Score = 0  # Initial drowsiness score\n",
    "\n"
   ]
  },
  {
   "cell_type": "code",
   "execution_count": 5,
   "id": "0fc5cae3-cd3c-466a-8b33-be10f39657fa",
   "metadata": {},
   "outputs": [],
   "source": [
    "def send_command(value):\n",
    "    \"\"\"Sends a command to the Arduino to control the motor.\"\"\"\n",
    "    if value == '1':\n",
    "        motor_pwm_pin.write(0.5)  # Apply brake (slow down motor)\n",
    "        print(\"Motor slowed down\")\n",
    "    elif value == '0':\n",
    "        motor_pwm_pin.write(1.0)  # Release brake (restore full speed)\n",
    "        print(\"Motor full speed restored\")\n",
    "    else:\n",
    "        print(\"Invalid value. Only '1' or '0' allowed.\")"
   ]
  },
  {
   "cell_type": "code",
   "execution_count": 6,
   "id": "f9459cfa-aeb3-4479-9f41-4b194b25b44e",
   "metadata": {},
   "outputs": [
    {
     "name": "stdout",
     "output_type": "stream",
     "text": [
      "1/1 [==============================] - 3s 3s/step\n",
      "Prediction: [[0.0044624  0.99553764]]\n"
     ]
    },
    {
     "ename": "NameError",
     "evalue": "name 'motor_pwm_pin' is not defined",
     "output_type": "error",
     "traceback": [
      "\u001b[1;31m---------------------------------------------------------------------------\u001b[0m",
      "\u001b[1;31mNameError\u001b[0m                                 Traceback (most recent call last)",
      "Cell \u001b[1;32mIn[6], line 49\u001b[0m\n\u001b[0;32m     47\u001b[0m             Score \u001b[38;5;241m=\u001b[39m \u001b[38;5;28mmax\u001b[39m(Score \u001b[38;5;241m-\u001b[39m \u001b[38;5;241m2\u001b[39m, \u001b[38;5;241m0\u001b[39m)  \u001b[38;5;66;03m# Decrease score, but keep it above 0\u001b[39;00m\n\u001b[0;32m     48\u001b[0m             \u001b[38;5;28;01mif\u001b[39;00m Score \u001b[38;5;241m<\u001b[39m \u001b[38;5;241m10\u001b[39m:\n\u001b[1;32m---> 49\u001b[0m                 \u001b[43msend_command\u001b[49m\u001b[43m(\u001b[49m\u001b[38;5;124;43m'\u001b[39;49m\u001b[38;5;124;43m0\u001b[39;49m\u001b[38;5;124;43m'\u001b[39;49m\u001b[43m)\u001b[49m  \u001b[38;5;66;03m# Release brake (restore full speed)\u001b[39;00m\n\u001b[0;32m     51\u001b[0m \u001b[38;5;66;03m# Display real-time score and alerts on frame\u001b[39;00m\n\u001b[0;32m     52\u001b[0m cv2\u001b[38;5;241m.\u001b[39mputText(frame, \u001b[38;5;124mf\u001b[39m\u001b[38;5;124m'\u001b[39m\u001b[38;5;124mScore: \u001b[39m\u001b[38;5;132;01m{\u001b[39;00mScore\u001b[38;5;132;01m}\u001b[39;00m\u001b[38;5;124m'\u001b[39m, (\u001b[38;5;241m10\u001b[39m, height \u001b[38;5;241m-\u001b[39m \u001b[38;5;241m20\u001b[39m), cv2\u001b[38;5;241m.\u001b[39mFONT_HERSHEY_SIMPLEX, \u001b[38;5;241m0.7\u001b[39m, (\u001b[38;5;241m255\u001b[39m, \u001b[38;5;241m255\u001b[39m, \u001b[38;5;241m255\u001b[39m), \u001b[38;5;241m2\u001b[39m)\n",
      "Cell \u001b[1;32mIn[5], line 7\u001b[0m, in \u001b[0;36msend_command\u001b[1;34m(value)\u001b[0m\n\u001b[0;32m      5\u001b[0m     \u001b[38;5;28mprint\u001b[39m(\u001b[38;5;124m\"\u001b[39m\u001b[38;5;124mMotor slowed down\u001b[39m\u001b[38;5;124m\"\u001b[39m)\n\u001b[0;32m      6\u001b[0m \u001b[38;5;28;01melif\u001b[39;00m value \u001b[38;5;241m==\u001b[39m \u001b[38;5;124m'\u001b[39m\u001b[38;5;124m0\u001b[39m\u001b[38;5;124m'\u001b[39m:\n\u001b[1;32m----> 7\u001b[0m     \u001b[43mmotor_pwm_pin\u001b[49m\u001b[38;5;241m.\u001b[39mwrite(\u001b[38;5;241m1.0\u001b[39m)  \u001b[38;5;66;03m# Release brake (restore full speed)\u001b[39;00m\n\u001b[0;32m      8\u001b[0m     \u001b[38;5;28mprint\u001b[39m(\u001b[38;5;124m\"\u001b[39m\u001b[38;5;124mMotor full speed restored\u001b[39m\u001b[38;5;124m\"\u001b[39m)\n\u001b[0;32m      9\u001b[0m \u001b[38;5;28;01melse\u001b[39;00m:\n",
      "\u001b[1;31mNameError\u001b[0m: name 'motor_pwm_pin' is not defined"
     ]
    }
   ],
   "source": [
    "# Start video capture\n",
    "cap = cv2.VideoCapture(0)\n",
    "if not cap.isOpened():\n",
    "    print(\"Error: Camera not found!\")\n",
    "    exit()\n",
    "while True:\n",
    "    ret, frame = cap.read()\n",
    "    if not ret:\n",
    "        print(\"Error: Failed to grab frame.\")\n",
    "        break\n",
    "    \n",
    "    height, width = frame.shape[0:2]\n",
    "    gray = cv2.cvtColor(frame, cv2.COLOR_BGR2GRAY)\n",
    "    gray = cv2.equalizeHist(gray)\n",
    "    \n",
    "    # Adjust brightness based on lighting conditions\n",
    "    brightness = np.mean(gray)\n",
    "    if brightness > 180:\n",
    "        frame = cv2.convertScaleAbs(frame, alpha=0.5, beta=0)\n",
    "    elif brightness < 50:\n",
    "        frame = cv2.convertScaleAbs(frame, alpha=1.5, beta=20)\n",
    "\n",
    "    # Detect faces and eyes in the frame\n",
    "    faces = face_cascade.detectMultiScale(gray, scaleFactor=1.3, minNeighbors=5)\n",
    "    if len(faces) == 0:\n",
    "        print(\"No faces detected.\")\n",
    "    for (x, y, w, h) in faces:\n",
    "        cv2.rectangle(frame, (x, y), (x + w, y + h), (255, 0, 0), 3)\n",
    "        face_roi = gray[y:y + h, x:x + w]\n",
    "        eyes = eye_cascade.detectMultiScale(face_roi, scaleFactor=1.2, minNeighbors=3)\n",
    "        if len(eyes) == 0:\n",
    "            print(\"No eyes detected.\")\n",
    "        for (ex, ey, ew, eh) in eyes:\n",
    "            ex, ey = x + ex, y + ey  # Adjust coordinates\n",
    "            eye = frame[ey:ey + eh, ex:ex + ew]\n",
    "            eye = cv2.resize(eye, (80, 80)) / 255.0\n",
    "            eye = np.expand_dims(eye.reshape(80, 80, 3), axis=0)\n",
    "            prediction = model.predict(eye)\n",
    "            print(f\"Prediction: {prediction}\")\n",
    "            if prediction[0][0] > 0.30:  # Closed eye detected\n",
    "                Score += 1\n",
    "                if Score > 20:\n",
    "                    sound.play()\n",
    "                    send_command('1')  # Apply brake (slow down motor)\n",
    "                     \n",
    "            elif prediction[0][1] > 0.65:  # Open eye detected\n",
    "                Score = max(Score - 2, 0)  # Decrease score, but keep it above 0\n",
    "                if Score < 10:\n",
    "                    send_command('0')  # Release brake (restore full speed)\n",
    "\n",
    "    # Display real-time score and alerts on frame\n",
    "    cv2.putText(frame, f'Score: {Score}', (10, height - 20), cv2.FONT_HERSHEY_SIMPLEX, 0.7, (255, 255, 255), 2)\n",
    "    cv2.imshow('Driver Drowsiness Detection', frame)\n",
    "\n",
    "    # Quit if 'q' is pressed\n",
    "    if cv2.waitKey(33) & 0xFF == ord('q'):\n",
    "        break\n",
    "\n",
    "    cap.release()\n",
    "    cv2.destroyAllWindows()\n",
    "    #ser.close()\n",
    "    board.exit()\n"
   ]
  },
  {
   "cell_type": "code",
   "execution_count": null,
   "id": "d3d42b62-d0cf-406b-912a-c15f84778b4b",
   "metadata": {},
   "outputs": [],
   "source": []
  },
  {
   "cell_type": "code",
   "execution_count": null,
   "id": "76713fea-4d4d-4394-af6d-66a562c5546c",
   "metadata": {},
   "outputs": [],
   "source": []
  }
 ],
 "metadata": {
  "kernelspec": {
   "display_name": "Python (myenv)",
   "language": "python",
   "name": "myenv"
  },
  "language_info": {
   "codemirror_mode": {
    "name": "ipython",
    "version": 3
   },
   "file_extension": ".py",
   "mimetype": "text/x-python",
   "name": "python",
   "nbconvert_exporter": "python",
   "pygments_lexer": "ipython3",
   "version": "3.10.15"
  }
 },
 "nbformat": 4,
 "nbformat_minor": 5
}
