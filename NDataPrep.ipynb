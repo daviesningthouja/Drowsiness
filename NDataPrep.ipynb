{
 "cells": [
  {
   "cell_type": "code",
   "execution_count": 1,
   "id": "60abf920-296b-4212-87f5-8dba9fdab0fe",
   "metadata": {},
   "outputs": [],
   "source": [
    "import os\n",
    "import random\n",
    "\n",
    "# Define the source directories\n",
    "source_open_eyes = \"D:\\Davies Ningthoujam\\My project\\Ml Project\\Driver drowsiness Detection\\OACE\\open\"\n",
    "source_close_eyes = \"D:\\Davies Ningthoujam\\My project\\Ml Project\\Driver drowsiness Detection\\OACE\\close\"\n",
    "\n",
    "# Define the target directories\n",
    "target_train_open_eyes = \"D:\\Davies Ningthoujam\\My project\\Ml Project\\Driver drowsiness Detection\\Data\\Train\\Open eyes\"\n",
    "target_train_close_eyes = \"D:\\Davies Ningthoujam\\My project\\Ml Project\\Driver drowsiness Detection\\Data\\Train\\Close eyes\"\n",
    "target_test_open_eyes = \"D:\\Davies Ningthoujam\\My project\\Ml Project\\Driver drowsiness Detection\\Data\\Test\\Open eyes\"\n",
    "target_test_close_eyes = \"D:\\Davies Ningthoujam\\My project\\Ml Project\\Driver drowsiness Detection\\Data\\Test\\Close eyes\"\n",
    "\n",
    "# Create target directories if they don't exist\n",
    "os.makedirs(target_train_open_eyes, exist_ok=True)\n",
    "os.makedirs(target_train_close_eyes, exist_ok=True)\n",
    "os.makedirs(target_test_open_eyes, exist_ok=True)\n",
    "os.makedirs(target_test_close_eyes, exist_ok=True)\n",
    "\n",
    "# Function to split data into training and testing sets\n",
    "def split_data(source_dir, target_train_dir, target_test_dir, split_ratio=0.9):\n",
    "    images = os.listdir(source_dir)\n",
    "    num_train = int(len(images) * split_ratio)\n",
    "\n",
    "    random.shuffle(images)\n",
    "\n",
    "    for i, image in enumerate(images):\n",
    "        if i < num_train:\n",
    "            target_dir = target_train_dir\n",
    "        else:\n",
    "            target_dir = target_test_dir\n",
    "        source_path = os.path.join(source_dir, image)\n",
    "        target_path = os.path.join(target_dir, image)\n",
    "        os.rename(source_path, target_path)\n",
    "\n",
    "# Split data for Open Eyes and Close Eyes\n",
    "split_data(source_open_eyes, target_train_open_eyes, target_test_open_eyes)\n",
    "split_data(source_close_eyes, target_train_close_eyes, target_test_close_eyes)"
   ]
  },
  {
   "cell_type": "code",
   "execution_count": null,
   "id": "1b61f656-48d2-41d7-9a72-fff059696e74",
   "metadata": {},
   "outputs": [],
   "source": []
  }
 ],
 "metadata": {
  "kernelspec": {
   "display_name": "Python (Drowsiness Detection)",
   "language": "python",
   "name": "drowsiness_detection_env"
  },
  "language_info": {
   "codemirror_mode": {
    "name": "ipython",
    "version": 3
   },
   "file_extension": ".py",
   "mimetype": "text/x-python",
   "name": "python",
   "nbconvert_exporter": "python",
   "pygments_lexer": "ipython3",
   "version": "3.10.15"
  }
 },
 "nbformat": 4,
 "nbformat_minor": 5
}
