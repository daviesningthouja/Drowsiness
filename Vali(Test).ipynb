{
 "cells": [
  {
   "cell_type": "code",
   "execution_count": 1,
   "id": "e1fbc5a7-d3fe-40ac-8017-3dd4ef2b2c9e",
   "metadata": {},
   "outputs": [
    {
     "ename": "ModuleNotFoundError",
     "evalue": "No module named 'sklearn'",
     "output_type": "error",
     "traceback": [
      "\u001b[1;31m---------------------------------------------------------------------------\u001b[0m",
      "\u001b[1;31mModuleNotFoundError\u001b[0m                       Traceback (most recent call last)",
      "Cell \u001b[1;32mIn[1], line 6\u001b[0m\n\u001b[0;32m      4\u001b[0m \u001b[38;5;28;01mfrom\u001b[39;00m \u001b[38;5;21;01mtensorflow\u001b[39;00m\u001b[38;5;21;01m.\u001b[39;00m\u001b[38;5;21;01mkeras\u001b[39;00m\u001b[38;5;21;01m.\u001b[39;00m\u001b[38;5;21;01mpreprocessing\u001b[39;00m\u001b[38;5;21;01m.\u001b[39;00m\u001b[38;5;21;01mimage\u001b[39;00m \u001b[38;5;28;01mimport\u001b[39;00m ImageDataGenerator\n\u001b[0;32m      5\u001b[0m \u001b[38;5;66;03m# Step 1: Import necessary libraries\u001b[39;00m\n\u001b[1;32m----> 6\u001b[0m \u001b[38;5;28;01mfrom\u001b[39;00m \u001b[38;5;21;01msklearn\u001b[39;00m\u001b[38;5;21;01m.\u001b[39;00m\u001b[38;5;21;01mmetrics\u001b[39;00m \u001b[38;5;28;01mimport\u001b[39;00m confusion_matrix, ConfusionMatrixDisplay\n\u001b[0;32m      7\u001b[0m \u001b[38;5;28;01mimport\u001b[39;00m \u001b[38;5;21;01mmatplotlib\u001b[39;00m\u001b[38;5;21;01m.\u001b[39;00m\u001b[38;5;21;01mpyplot\u001b[39;00m \u001b[38;5;28;01mas\u001b[39;00m \u001b[38;5;21;01mplt\u001b[39;00m\n\u001b[0;32m      9\u001b[0m \u001b[38;5;66;03m# Step 2: Assume you have `y_test` as true labels and `y_pred` as predicted labels\u001b[39;00m\n\u001b[0;32m     10\u001b[0m \u001b[38;5;66;03m# For example:\u001b[39;00m\n\u001b[0;32m     11\u001b[0m \u001b[38;5;66;03m# y_test = [actual labels of your test set]\u001b[39;00m\n\u001b[0;32m     12\u001b[0m \u001b[38;5;66;03m# y_pred = model.predict(X_test) # model predictions\u001b[39;00m\n\u001b[0;32m     13\u001b[0m \n\u001b[0;32m     14\u001b[0m \u001b[38;5;66;03m# Step 3: Calculate the confusion matrix\u001b[39;00m\n",
      "\u001b[1;31mModuleNotFoundError\u001b[0m: No module named 'sklearn'"
     ]
    }
   ],
   "source": [
    "import os\n",
    "import tensorflow as tf\n",
    "from tensorflow.keras.models import load_model\n",
    "from tensorflow.keras.preprocessing.image import ImageDataGenerator\n",
    "\n",
    "# Define paths\n",
    "checkpoint_dir = \"D:/Davies Ningthoujam/My project/Ml Project/Driver drowsiness Detection/models\"  # Directory where your models are saved\n",
    "train_data_dir = 'D:\\Davies Ningthoujam\\My project\\Ml Project\\Driver drowsiness Detection\\Data\\Train'  # Update with your training data path\n",
    "val_data_dir = 'D:\\Davies Ningthoujam\\My project\\Ml Project\\Driver drowsiness Detection\\Data\\Train'  # Update with your validation data path\n",
    "\n",
    "# Load the best model (assumes the best model is saved with the highest validation accuracy)\n",
    "# This example assumes your model naming convention includes the validation accuracy.\n",
    "# Adjust the file name as needed.\n",
    "best_model_path = os.path.join(checkpoint_dir, 'D:\\Davies Ningthoujam\\My project\\Ml Project\\Driver drowsiness Detection\\models')  # Change 'best_model.h5' to your actual best model filename\n",
    "best_model = load_model(best_model_path)\n",
    "\n",
    "# Compile the model (optional but good practice, especially if you're going to fine-tune it)\n",
    "best_model.compile(optimizer='adam', loss='categorical_crossentropy', metrics=['accuracy'])\n",
    "\n",
    "# Set up data generators for evaluation\n",
    "val_datagen = ImageDataGenerator(rescale=1./255)\n",
    "\n",
    "val_data = val_datagen.flow_from_directory(\n",
    "    val_data_dir,\n",
    "    target_size=(80,80),  # Adjust based on your model's input shape\n",
    "    batch_size=8,\n",
    "    class_mode='categorical',\n",
    "    shuffle=False  # Important for evaluation\n",
    ")\n",
    "\n",
    "# Evaluate the model on the validation dataset\n",
    "loss_val, acc_val = best_model.evaluate(val_data)\n",
    "\n",
    "# Print evaluation results\n",
    "print(f\"Validation Accuracy: {acc_val}\")\n",
    "print(f\"Validation Loss: {loss_val}\")\n"
   ]
  },
  {
   "cell_type": "code",
   "execution_count": 2,
   "id": "65db7e85-85a2-42ae-91a8-80a789396bed",
   "metadata": {},
   "outputs": [
    {
     "name": "stdout",
     "output_type": "stream",
     "text": [
      "Found 27872 images belonging to 2 classes.\n",
      "3484/3484 [==============================] - 1249s 359ms/step - loss: 0.1207 - accuracy: 0.9554\n",
      "Test Accuracy: 0.9554391503334045\n",
      "Test Loss: 0.12074540555477142\n"
     ]
    }
   ],
   "source": [
    "test_datagen = ImageDataGenerator(rescale=1./255)\n",
    "\n",
    "test_data = test_datagen.flow_from_directory(r'D:\\Davies Ningthoujam\\My project\\Ml Project\\Driver drowsiness Detection\\Data\\Test',\n",
    "                                target_size=(80,80),batch_size=8,class_mode='categorical')\n",
    "\n",
    "# Evaluate the model on the validation dataset\n",
    "loss_val, acc_val = best_model.evaluate(test_data)\n",
    "\n",
    "# Print evaluation results\n",
    "print(f\"Test Accuracy: {acc_val}\")\n",
    "print(f\"Test Loss: {loss_val}\")"
   ]
  },
  {
   "cell_type": "code",
   "execution_count": null,
   "id": "30ebd72e-dd93-4b9e-970a-e39439572d45",
   "metadata": {},
   "outputs": [],
   "source": []
  }
 ],
 "metadata": {
  "kernelspec": {
   "display_name": "Python (Drowsiness Detection)",
   "language": "python",
   "name": "drowsiness_detection_env"
  },
  "language_info": {
   "codemirror_mode": {
    "name": "ipython",
    "version": 3
   },
   "file_extension": ".py",
   "mimetype": "text/x-python",
   "name": "python",
   "nbconvert_exporter": "python",
   "pygments_lexer": "ipython3",
   "version": "3.10.15"
  }
 },
 "nbformat": 4,
 "nbformat_minor": 5
}
