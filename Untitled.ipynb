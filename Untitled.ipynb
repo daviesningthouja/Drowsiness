{
 "cells": [
  {
   "cell_type": "code",
   "execution_count": 4,
   "id": "42d13e4d-a4cb-46ab-83b6-c7313c8ab745",
   "metadata": {},
   "outputs": [],
   "source": [
    "import tensorflow as tf\n",
    "\n",
    "# Load the SavedModel\n",
    "model = tf.keras.models.load_model('D:/Davies Ningthoujam/Git/Drowsiness/model/my_model.h5')\n"
   ]
  },
  {
   "cell_type": "code",
   "execution_count": 3,
   "id": "aad278fd-d225-40b5-8132-8f95dcc4adfb",
   "metadata": {},
   "outputs": [],
   "source": [
    "model.save('my_model.h5')"
   ]
  },
  {
   "cell_type": "code",
   "execution_count": null,
   "id": "63e7d447-69a2-4c35-9aff-8bed7c19dac1",
   "metadata": {},
   "outputs": [],
   "source": []
  }
 ],
 "metadata": {
  "kernelspec": {
   "display_name": "Python (myenv)",
   "language": "python",
   "name": "myenv"
  },
  "language_info": {
   "codemirror_mode": {
    "name": "ipython",
    "version": 3
   },
   "file_extension": ".py",
   "mimetype": "text/x-python",
   "name": "python",
   "nbconvert_exporter": "python",
   "pygments_lexer": "ipython3",
   "version": "3.10.15"
  }
 },
 "nbformat": 4,
 "nbformat_minor": 5
}
